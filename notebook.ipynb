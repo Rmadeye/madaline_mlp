{
 "cells": [
  {
   "cell_type": "code",
   "execution_count": 10,
   "metadata": {},
   "outputs": [],
   "source": [
    "import numpy as np\n",
    "from PIL import Image, ImageDraw, ImageFont\n",
    "from IPython.display import display\n"
   ]
  },
  {
   "cell_type": "code",
   "execution_count": 12,
   "metadata": {},
   "outputs": [
    {
     "data": {
      "text/plain": [
       "<PIL.ImageDraw.ImageDraw at 0x7e0be80dd510>"
      ]
     },
     "metadata": {},
     "output_type": "display_data"
    }
   ],
   "source": [
    "font_path = 'times-ro.ttf'\n",
    "font_size = 16\n",
    "font = ImageFont.truetype(font_path, font_size)\n",
    "im = Image.new('L', (16, 16), color=0)\n",
    "draw = ImageDraw.Draw(im)\n",
    "draw.text((-2, 0), 'a', font=font, fill=255)\n"
   ]
  },
  {
   "cell_type": "code",
   "execution_count": 17,
   "metadata": {},
   "outputs": [],
   "source": [
    "from fontTools.ttLib import TTFont\n",
    "\n",
    "font = TTFont(font_path)\n",
    "glyphs = []\n",
    "for glyph_name in font.getGlyphOrder():\n",
    "    glyph = font['glyf'][glyph_name]\n",
    "    glyphs.append(glyph)"
   ]
  },
  {
   "cell_type": "code",
   "execution_count": 27,
   "metadata": {},
   "outputs": [
    {
     "data": {
      "image/png": "[encoded data removed]",
      "text/plain": [
       "<PIL.Image.Image image mode=L size=16x16>"
      ]
     },
     "metadata": {},
     "output_type": "display_data"
    }
   ],
   "source": [
    "from PIL import Image, ImageDraw, ImageFont\n",
    "\n",
    "# Load the TTF font\n",
    "font_size = 16\n",
    "font = ImageFont.truetype(font_path, font_size)\n",
    "\n",
    "# Create an image to render the glyph\n",
    "im = Image.new('L', (16, 16), color=0)\n",
    "draw = ImageDraw.Draw(im)\n",
    "\n",
    "# Render a specific character (e.g., 'a') and put it in the middle of image\n",
    "draw.text((-2, 0), 'a', font=font, fill=255)\n",
    "# show the image\n",
    "display(im)"
   ]
  },
  {
   "cell_type": "code",
   "execution_count": 45,
   "metadata": {},
   "outputs": [
    {
     "name": "stderr",
     "output_type": "stream",
     "text": [
      "/tmp/ipykernel_12439/2098585021.py:17: DeprecationWarning: textsize is deprecated and will be removed in Pillow 10 (2023-07-01). Use textbbox or textlength instead.\n",
      "  char_width, char_height = draw.textsize('a', font=font)\n"
     ]
    }
   ],
   "source": [
    "from PIL import Image, ImageDraw, ImageFont\n",
    "from IPython.display import display\n",
    "\n",
    "# Load the TTF font\n",
    "font_size = 64\n",
    "font = ImageFont.truetype(font_path, font_size)\n",
    "\n",
    "# Create an image to render the glyph\n",
    "image_size = (128, 128)\n",
    "# color letter to black, background to white\n",
    "\n",
    "im = Image.new('L', image_size, color=255)\n",
    "\n",
    "draw = ImageDraw.Draw(im)\n",
    "\n",
    "# Calculate the position to center the character\n",
    "char_width, char_height = draw.textsize('a', font=font)\n",
    "x_center = (image_size[0] - char_width) // 2\n",
    "y_center = (image_size[1] - char_height) // 2\n",
    "\n",
    "# Render the character in the center\n",
    "draw.text((x_center, y_center), 'a', font=font, fill=0)\n",
    "\n",
    "# Display the image\n",
    "# save the image\n",
    "# im.save('a.png')"
   ]
  },
  {
   "cell_type": "code",
   "execution_count": 1,
   "metadata": {},
   "outputs": [
    {
     "name": "stdout",
     "output_type": "stream",
     "text": [
      "Saved a.png to data/testing\n",
      "Saved b.png to data/testing\n",
      "Saved c.png to data/testing\n",
      "Saved d.png to data/testing\n",
      "Saved e.png to data/testing\n",
      "Saved f.png to data/testing\n",
      "Saved g.png to data/testing\n",
      "Saved h.png to data/testing\n",
      "Saved i.png to data/testing\n",
      "Saved j.png to data/testing\n",
      "Saved k.png to data/testing\n",
      "Saved l.png to data/testing\n",
      "Saved m.png to data/testing\n",
      "Saved n.png to data/testing\n",
      "Saved o.png to data/testing\n",
      "Saved p.png to data/testing\n",
      "Saved q.png to data/testing\n",
      "Saved r.png to data/testing\n",
      "Saved s.png to data/testing\n",
      "Saved t.png to data/testing\n",
      "Saved u.png to data/testing\n",
      "Saved v.png to data/testing\n",
      "Saved w.png to data/testing\n",
      "Saved x.png to data/testing\n",
      "Saved y.png to data/testing\n",
      "Saved z.png to data/testing\n",
      "Saved A.png to data/testing\n",
      "Saved B.png to data/testing\n",
      "Saved C.png to data/testing\n",
      "Saved D.png to data/testing\n",
      "Saved E.png to data/testing\n",
      "Saved F.png to data/testing\n",
      "Saved G.png to data/testing\n",
      "Saved H.png to data/testing\n",
      "Saved I.png to data/testing\n",
      "Saved J.png to data/testing\n",
      "Saved K.png to data/testing\n",
      "Saved L.png to data/testing\n",
      "Saved M.png to data/testing\n",
      "Saved N.png to data/testing\n",
      "Saved O.png to data/testing\n",
      "Saved P.png to data/testing\n",
      "Saved Q.png to data/testing\n",
      "Saved R.png to data/testing\n",
      "Saved S.png to data/testing\n",
      "Saved T.png to data/testing\n",
      "Saved U.png to data/testing\n",
      "Saved V.png to data/testing\n",
      "Saved W.png to data/testing\n",
      "Saved X.png to data/testing\n",
      "Saved Y.png to data/testing\n",
      "Saved Z.png to data/testing\n",
      "Saved 0.png to data/testing\n",
      "Saved 1.png to data/testing\n",
      "Saved 2.png to data/testing\n",
      "Saved 3.png to data/testing\n",
      "Saved 4.png to data/testing\n",
      "Saved 5.png to data/testing\n",
      "Saved 6.png to data/testing\n",
      "Saved 7.png to data/testing\n",
      "Saved 8.png to data/testing\n",
      "Saved 9.png to data/testing\n"
     ]
    }
   ],
   "source": [
    "from font_generator import generate_font_image\n",
    "import string\n",
    "# import all letters, digits and punctuation\n",
    "all_characters = string.ascii_letters + string.digits \n",
    "w=64\n",
    "h=64\n",
    "yp=32\n",
    "xp=32\n",
    "noise=0\n",
    "output_dir='data/testing'\n",
    "overwrite=True\n",
    "\n",
    "for char in all_characters:\n",
    "    generate_font_image(w, h, xp, yp, font_file='times-ro.ttf', letter=char, noise_level=0, output_dir=output_dir,\n",
    "                        overwrite=overwrite)"
   ]
  }
 ],
 "metadata": {
  "kernelspec": {
   "display_name": "data",
   "language": "python",
   "name": "python3"
  },
  "language_info": {
   "codemirror_mode": {
    "name": "ipython",
    "version": 3
   },
   "file_extension": ".py",
   "mimetype": "text/x-python",
   "name": "python",
   "nbconvert_exporter": "python",
   "pygments_lexer": "ipython3",
   "version": "3.11.5"
  }
 },
 "nbformat": 4,
 "nbformat_minor": 2
}
