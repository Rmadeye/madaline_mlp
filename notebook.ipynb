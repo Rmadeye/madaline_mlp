{
 "cells": [
  {
   "cell_type": "code",
   "execution_count": 10,
   "metadata": {},
   "outputs": [],
   "source": [
    "import numpy as np\n",
    "from PIL import Image, ImageDraw, ImageFont\n",
    "from IPython.display import display\n"
   ]
  },
  {
   "cell_type": "code",
   "execution_count": 12,
   "metadata": {},
   "outputs": [
    {
     "data": {
      "text/plain": [
       "<PIL.ImageDraw.ImageDraw at 0x7e0be80dd510>"
      ]
     },
     "metadata": {},
     "output_type": "display_data"
    }
   ],
   "source": [
    "font_path = 'times-ro.ttf'\n",
    "font_size = 16\n",
    "font = ImageFont.truetype(font_path, font_size)\n",
    "im = Image.new('L', (16, 16), color=0)\n",
    "draw = ImageDraw.Draw(im)\n",
    "draw.text((-2, 0), 'a', font=font, fill=255)\n"
   ]
  },
  {
   "cell_type": "code",
   "execution_count": 17,
   "metadata": {},
   "outputs": [],
   "source": [
    "from fontTools.ttLib import TTFont\n",
    "\n",
    "font = TTFont(font_path)\n",
    "glyphs = []\n",
    "for glyph_name in font.getGlyphOrder():\n",
    "    glyph = font['glyf'][glyph_name]\n",
    "    glyphs.append(glyph)"
   ]
  },
  {
   "cell_type": "code",
   "execution_count": 27,
   "metadata": {},
   "outputs": [
    {
     "data": {
      "image/png": "[encoded data removed]",
      "text/plain": [
       "<PIL.Image.Image image mode=L size=16x16>"
      ]
     },
     "metadata": {},
     "output_type": "display_data"
    }
   ],
   "source": [
    "from PIL import Image, ImageDraw, ImageFont\n",
    "\n",
    "# Load the TTF font\n",
    "font_size = 16\n",
    "font = ImageFont.truetype(font_path, font_size)\n",
    "\n",
    "# Create an image to render the glyph\n",
    "im = Image.new('L', (16, 16), color=0)\n",
    "draw = ImageDraw.Draw(im)\n",
    "\n",
    "# Render a specific character (e.g., 'a') and put it in the middle of image\n",
    "draw.text((-2, 0), 'a', font=font, fill=255)\n",
    "# show the image\n",
    "display(im)"
   ]
  },
  {
   "cell_type": "code",
   "execution_count": 45,
   "metadata": {},
   "outputs": [
    {
     "name": "stderr",
     "output_type": "stream",
     "text": [
      "/tmp/ipykernel_12439/2098585021.py:17: DeprecationWarning: textsize is deprecated and will be removed in Pillow 10 (2023-07-01). Use textbbox or textlength instead.\n",
      "  char_width, char_height = draw.textsize('a', font=font)\n"
     ]
    }
   ],
   "source": [
    "from PIL import Image, ImageDraw, ImageFont\n",
    "from IPython.display import display\n",
    "\n",
    "# Load the TTF font\n",
    "font_size = 64\n",
    "font = ImageFont.truetype(font_path, font_size)\n",
    "\n",
    "# Create an image to render the glyph\n",
    "image_size = (128, 128)\n",
    "# color letter to black, background to white\n",
    "\n",
    "im = Image.new('L', image_size, color=255)\n",
    "\n",
    "draw = ImageDraw.Draw(im)\n",
    "\n",
    "# Calculate the position to center the character\n",
    "char_width, char_height = draw.textsize('a', font=font)\n",
    "x_center = (image_size[0] - char_width) // 2\n",
    "y_center = (image_size[1] - char_height) // 2\n",
    "\n",
    "# Render the character in the center\n",
    "draw.text((x_center, y_center), 'a', font=font, fill=0)\n",
    "\n",
    "# Display the image\n",
    "# save the image\n",
    "# im.save('a.png')"
   ]
  },
  {
   "cell_type": "code",
   "execution_count": 7,
   "metadata": {},
   "outputs": [
    {
     "ename": "FileNotFoundError",
     "evalue": "[Errno 2] No such file or directory: 'data/test_90/'",
     "output_type": "error",
     "traceback": [
      "\u001b[0;31m---------------------------------------------------------------------------\u001b[0m",
      "\u001b[0;31mFileNotFoundError\u001b[0m                         Traceback (most recent call last)",
      "Cell \u001b[0;32mIn[7], line 14\u001b[0m\n\u001b[1;32m     11\u001b[0m overwrite\u001b[38;5;241m=\u001b[39m\u001b[38;5;28;01mTrue\u001b[39;00m\n\u001b[1;32m     13\u001b[0m \u001b[38;5;28;01mfor\u001b[39;00m char \u001b[38;5;129;01min\u001b[39;00m all_characters:\n\u001b[0;32m---> 14\u001b[0m     \u001b[43mgenerate_font_image\u001b[49m\u001b[43m(\u001b[49m\u001b[43mw\u001b[49m\u001b[43m,\u001b[49m\u001b[43m \u001b[49m\u001b[43mh\u001b[49m\u001b[43m,\u001b[49m\u001b[43m \u001b[49m\u001b[43mxp\u001b[49m\u001b[43m,\u001b[49m\u001b[43m \u001b[49m\u001b[43myp\u001b[49m\u001b[43m,\u001b[49m\u001b[43m \u001b[49m\u001b[43mfont_file\u001b[49m\u001b[38;5;241;43m=\u001b[39;49m\u001b[38;5;124;43m'\u001b[39;49m\u001b[38;5;124;43mtimes-ro.ttf\u001b[39;49m\u001b[38;5;124;43m'\u001b[39;49m\u001b[43m,\u001b[49m\u001b[43m \u001b[49m\u001b[43mletter\u001b[49m\u001b[38;5;241;43m=\u001b[39;49m\u001b[43mchar\u001b[49m\u001b[43m,\u001b[49m\u001b[43m \u001b[49m\u001b[43mnoise_level\u001b[49m\u001b[38;5;241;43m=\u001b[39;49m\u001b[38;5;241;43m90\u001b[39;49m\u001b[43m,\u001b[49m\u001b[43m \u001b[49m\u001b[43moutput_dir\u001b[49m\u001b[38;5;241;43m=\u001b[39;49m\u001b[43moutput_dir\u001b[49m\u001b[43m,\u001b[49m\n\u001b[1;32m     15\u001b[0m \u001b[43m                        \u001b[49m\u001b[43moverwrite\u001b[49m\u001b[38;5;241;43m=\u001b[39;49m\u001b[43moverwrite\u001b[49m\u001b[43m)\u001b[49m\n",
      "File \u001b[0;32m~/repos/madaline_mlp/font_generator.py:51\u001b[0m, in \u001b[0;36mgenerate_font_image\u001b[0;34m(width, height, x_position, y_position, font_file, letter, noise_level, output_dir, overwrite)\u001b[0m\n\u001b[1;32m     49\u001b[0m     image \u001b[38;5;241m=\u001b[39m add_noise(image, noise_level)\n\u001b[1;32m     50\u001b[0m output_path \u001b[38;5;241m=\u001b[39m \u001b[38;5;124mf\u001b[39m\u001b[38;5;124m'\u001b[39m\u001b[38;5;132;01m{\u001b[39;00moutput_dir\u001b[38;5;132;01m}\u001b[39;00m\u001b[38;5;124m/\u001b[39m\u001b[38;5;132;01m{\u001b[39;00mletter\u001b[38;5;132;01m}\u001b[39;00m\u001b[38;5;124m.png\u001b[39m\u001b[38;5;124m'\u001b[39m\n\u001b[0;32m---> 51\u001b[0m \u001b[38;5;28;01mif\u001b[39;00m \u001b[38;5;124mf\u001b[39m\u001b[38;5;124m\"\u001b[39m\u001b[38;5;132;01m{\u001b[39;00mletter\u001b[38;5;132;01m}\u001b[39;00m\u001b[38;5;124m.png\u001b[39m\u001b[38;5;124m\"\u001b[39m \u001b[38;5;129;01min\u001b[39;00m os\u001b[38;5;241m.\u001b[39mlistdir(output_dir) \u001b[38;5;129;01mand\u001b[39;00m \u001b[38;5;129;01mnot\u001b[39;00m overwrite:\n\u001b[1;32m     52\u001b[0m     \u001b[38;5;28mprint\u001b[39m(\u001b[38;5;124mf\u001b[39m\u001b[38;5;124m\"\u001b[39m\u001b[38;5;132;01m{\u001b[39;00mletter\u001b[38;5;132;01m}\u001b[39;00m\u001b[38;5;124m already exists in the output directory\u001b[39m\u001b[38;5;124m\"\u001b[39m)\n\u001b[1;32m     54\u001b[0m \u001b[38;5;28;01melse\u001b[39;00m:\n",
      "\u001b[0;31mFileNotFoundError\u001b[0m: [Errno 2] No such file or directory: 'data/test_90/'"
     ]
    }
   ],
   "source": [
    "from font_generator import generate_font_image\n",
    "import string\n",
    "# import all letters, digits and punctuation\n",
    "all_characters = string.ascii_letters + string.digits \n",
    "w=64\n",
    "h=64\n",
    "yp=32\n",
    "xp=32\n",
    "noise=0\n",
    "output_dir='data/test_90/'\n",
    "overwrite=True\n",
    "\n",
    "for char in all_characters:\n",
    "    generate_font_image(w, h, xp, yp, font_file='times-ro.ttf', letter=char, noise_level=90, output_dir=output_dir,\n",
    "                        overwrite=overwrite)"
   ]
  }
 ],
 "metadata": {
  "kernelspec": {
   "display_name": "data",
   "language": "python",
   "name": "python3"
  },
  "language_info": {
   "codemirror_mode": {
    "name": "ipython",
    "version": 3
   },
   "file_extension": ".py",
   "mimetype": "text/x-python",
   "name": "python",
   "nbconvert_exporter": "python",
   "pygments_lexer": "ipython3",
   "version": "3.11.5"
  }
 },
 "nbformat": 4,
 "nbformat_minor": 2
}
